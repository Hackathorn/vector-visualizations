{
 "cells": [
  {
   "cell_type": "markdown",
   "metadata": {},
   "source": [
    "# Curating Simple Test 3DTextures\n",
    "\n",
    "All test datasets are int8 (0..255) values with shape = (size,size,size,3) where size < 2048"
   ]
  },
  {
   "cell_type": "code",
   "execution_count": 1,
   "metadata": {},
   "outputs": [],
   "source": [
    "import numpy as np\n",
    "#import xarray as xr\n",
    "#import glob\n",
    "#import imageio\n",
    "#import os\n",
    "\n",
    "path = 'datasets/'  # located dataset library as subfolder of /notebooks\n"
   ]
  },
  {
   "cell_type": "markdown",
   "metadata": {},
   "source": [
    "## Methods to create (and test) binary file with 3-byte binary tuples\n",
    "\n",
    "First 3-byte tuple contains the three sizes for UVW 3D shape, followed by 3-byte tuples for each RGB24 pixel.\n",
    "\n",
    "**Note** that the three bytes for shape currently allow for only zero to 255 as shape values."
   ]
  },
  {
   "cell_type": "code",
   "execution_count": 5,
   "metadata": {},
   "outputs": [],
   "source": [
    "def save_dataset(uvw, name, path):\n",
    "    \n",
    "    file_name = path + name + '.uvw'\n",
    "    with open(file_name, \"wb\") as f:\n",
    "        \n",
    "        # write 3 bytes for shape values\n",
    "        shape_bytes = np.array(uvw.shape)[:3].astype(np.int8).tobytes()\n",
    "        f.write(shape_bytes)\n",
    "        \n",
    "        # write the entire UVW ndarray \n",
    "        uvw_bytes = uvw.flatten().tobytes()\n",
    "        f.write(uvw_bytes)\n",
    "\n",
    "def test_new_dataset(uvw, name, path, scan=False):\n",
    "    \n",
    "    file_name = path + name + '.uvw'\n",
    "    with open(file_name, \"rb\") as f:\n",
    "        b = f.read(3)\n",
    "        shape = tuple([b[0], b[1], b[2], 3])\n",
    "        uvw2 = np.zeros(shape).astype(np.uint8)\n",
    "        print('new UVW type=', type(uvw2), type(uvw2[0,0,0,0]), 'shape=', uvw2.shape, ' # cells=', np.prod(uvw2.shape), 'sum=', uvw2.sum())\n",
    "        \n",
    "        if scan == True:\n",
    "            for i in range(shape[0]):\n",
    "                for j in range(shape[1]):\n",
    "                    for k in range(shape[2]):\n",
    "                        for l in range(3):\n",
    "                            uvw2[i, j, k, l] = int.from_bytes(f.read(1), byteorder='big')\n",
    "                            if uvw2[i, j, k, l] != uvw[i, j, k, l]:\n",
    "                                print('ERROR: old=', uvw[i, j, k, l], 'new=', uvw2[i, j, k, l])\n",
    "\n"
   ]
  },
  {
   "cell_type": "markdown",
   "metadata": {},
   "source": [
    "## Generate UVW Test Dataset - random pixels"
   ]
  },
  {
   "cell_type": "code",
   "execution_count": 6,
   "metadata": {},
   "outputs": [
    {
     "name": "stdout",
     "output_type": "stream",
     "text": [
      "new UVW type= <class 'numpy.ndarray'> <class 'numpy.uint8'> shape= (64, 64, 64, 3)  # cells= 786432 sum= 0\n"
     ]
    }
   ],
   "source": [
    "size = 64\n",
    "name = 'test-ran64'\n",
    "\n",
    "u = np.random.randint(0,256,(size,size,size))  # minmic pixel RGB colors \n",
    "v = np.random.randint(0,256,(size,size,size)) \n",
    "w = np.random.randint(0,256,(size,size,size)) \n",
    "\n",
    "# combine with np.stack making the new dimension the last\n",
    "uvw = np.stack((u, v, w), axis=-1).astype(np.uint8)\n",
    "\n",
    "save_dataset(uvw, name, path)\n",
    "test_new_dataset(uvw, name, path, scan=False)\n"
   ]
  },
  {
   "cell_type": "markdown",
   "metadata": {},
   "source": [
    "## Generate UVW Test Dataset - uniform preset pixels"
   ]
  },
  {
   "cell_type": "code",
   "execution_count": 7,
   "metadata": {},
   "outputs": [
    {
     "name": "stdout",
     "output_type": "stream",
     "text": [
      "new UVW type= <class 'numpy.ndarray'> <class 'numpy.uint8'> shape= (64, 64, 64, 3)  # cells= 786432 sum= 0\n"
     ]
    }
   ],
   "source": [
    "size = 64\n",
    "default = 128\n",
    "name = 'test-same64'\n",
    "\n",
    "u = np.full((size,size,size), default, dtype=np.int8)\n",
    "v = np.full((size,size,size), default, dtype=np.int8)\n",
    "w = np.full((size,size,size), default, dtype=np.int8)\n",
    "\n",
    "# combine with np.stack making the new dimension the last\n",
    "uvw = np.stack((u, v, w), axis=-1).astype(np.uint8)\n",
    "\n",
    "save_dataset(uvw, name, path)\n",
    "test_new_dataset(uvw, name, path, scan=False)\n"
   ]
  },
  {
   "cell_type": "code",
   "execution_count": null,
   "metadata": {},
   "outputs": [],
   "source": []
  }
 ],
 "metadata": {
  "kernelspec": {
   "display_name": "Python 3",
   "language": "python",
   "name": "python3"
  },
  "language_info": {
   "codemirror_mode": {
    "name": "ipython",
    "version": 3
   },
   "file_extension": ".py",
   "mimetype": "text/x-python",
   "name": "python",
   "nbconvert_exporter": "python",
   "pygments_lexer": "ipython3",
   "version": "3.7.7"
  }
 },
 "nbformat": 4,
 "nbformat_minor": 4
}
